{
  "nbformat": 4,
  "nbformat_minor": 0,
  "metadata": {
    "colab": {
      "name": "Copy of Data Investigation with Pandas",
      "provenance": [],
      "collapsed_sections": [
        "NicC8P9LMjvO"
      ],
      "toc_visible": true,
      "include_colab_link": true
    },
    "kernelspec": {
      "name": "python3",
      "display_name": "Python 3"
    }
  },
  "cells": [
    {
      "cell_type": "markdown",
      "metadata": {
        "id": "view-in-github",
        "colab_type": "text"
      },
      "source": [
        "<a href=\"https://colab.research.google.com/github/alfafimel/training/blob/master/Copy_of_Data_Investigation_with_Pandas.ipynb\" target=\"_parent\"><img src=\"https://colab.research.google.com/assets/colab-badge.svg\" alt=\"Open In Colab\"/></a>"
      ]
    },
    {
      "cell_type": "markdown",
      "metadata": {
        "id": "B-ZF3yPCWGPf",
        "colab_type": "text"
      },
      "source": [
        "<font color=\"green\">*To start working on this notebook, or any other notebook that we will use in the Moringa Data Science Course, we will need to save our own copy of it. We can do this by clicking File > Save a Copy in Drive. We will then be able to make edits to our own copy of this notebook.*</font>"
      ]
    },
    {
      "cell_type": "markdown",
      "metadata": {
        "id": "m0tgCkvzPLEa",
        "colab_type": "text"
      },
      "source": [
        "# Data Investigation with Pandas"
      ]
    },
    {
      "cell_type": "markdown",
      "metadata": {
        "colab_type": "text",
        "id": "VSnOCZ5-IPCi"
      },
      "source": [
        "## 1.0 Importing our Libraries"
      ]
    },
    {
      "cell_type": "code",
      "metadata": {
        "id": "3r-KDLvrO44a",
        "colab_type": "code",
        "colab": {}
      },
      "source": [
        "# Importing the libraries we will need \n",
        "\n",
        "# Importing the pandas library\n",
        "# \n",
        "import pandas as pd\n",
        "\n",
        "# Importing the numpy library\n",
        "#\n",
        "import numpy as np"
      ],
      "execution_count": 1,
      "outputs": []
    },
    {
      "cell_type": "markdown",
      "metadata": {
        "id": "HToJZ2gBPawZ",
        "colab_type": "text"
      },
      "source": [
        "## 1.1 Reading the Dataset from our CSV file\n",
        "\n"
      ]
    },
    {
      "cell_type": "markdown",
      "metadata": {
        "id": "LBUr8VUXQX-K",
        "colab_type": "text"
      },
      "source": [
        "\n",
        "\n",
        "The dataset we will use contains information about the 2009 Census - The Rural Urban Population by Age, Sex and District.\n",
        "\n",
        "\n",
        "*   Dataset link for download or access: [Link](https://drive.google.com/open?id=1pc9ZLFGsosdWBk1lI29ADIqRtCvD_FBe)\n",
        "\n",
        "\n",
        "\n"
      ]
    },
    {
      "cell_type": "code",
      "metadata": {
        "id": "1acwmZanRNHs",
        "colab_type": "code",
        "colab": {
          "base_uri": "https://localhost:8080/",
          "height": 419
        },
        "outputId": "462c2549-d99f-4cfa-b760-b2080a5d5576"
      },
      "source": [
        "# Let's read the data from the CSV file and create the dataframe to be used\n",
        "# \n",
        "df = pd.read_csv('population_data.csv')\n",
        "df"
      ],
      "execution_count": 6,
      "outputs": [
        {
          "output_type": "execute_result",
          "data": {
            "text/html": [
              "<div>\n",
              "<style scoped>\n",
              "    .dataframe tbody tr th:only-of-type {\n",
              "        vertical-align: middle;\n",
              "    }\n",
              "\n",
              "    .dataframe tbody tr th {\n",
              "        vertical-align: top;\n",
              "    }\n",
              "\n",
              "    .dataframe thead th {\n",
              "        text-align: right;\n",
              "    }\n",
              "</style>\n",
              "<table border=\"1\" class=\"dataframe\">\n",
              "  <thead>\n",
              "    <tr style=\"text-align: right;\">\n",
              "      <th></th>\n",
              "      <th>District</th>\n",
              "      <th>Urban/Rural</th>\n",
              "      <th>Age_years</th>\n",
              "      <th>Male</th>\n",
              "      <th>Female</th>\n",
              "      <th>Total</th>\n",
              "      <th>County</th>\n",
              "      <th>Province</th>\n",
              "      <th>OBJECTID</th>\n",
              "    </tr>\n",
              "  </thead>\n",
              "  <tbody>\n",
              "    <tr>\n",
              "      <th>0</th>\n",
              "      <td>NAIROBI WEST</td>\n",
              "      <td>Urban</td>\n",
              "      <td>0</td>\n",
              "      <td>10126</td>\n",
              "      <td>10116</td>\n",
              "      <td>20242</td>\n",
              "      <td>Nairobi</td>\n",
              "      <td>NAIROBI</td>\n",
              "      <td>0</td>\n",
              "    </tr>\n",
              "    <tr>\n",
              "      <th>1</th>\n",
              "      <td>NAIROBI WEST</td>\n",
              "      <td>Urban</td>\n",
              "      <td>1</td>\n",
              "      <td>8124</td>\n",
              "      <td>7989</td>\n",
              "      <td>16113</td>\n",
              "      <td>Nairobi</td>\n",
              "      <td>NAIROBI</td>\n",
              "      <td>1</td>\n",
              "    </tr>\n",
              "    <tr>\n",
              "      <th>2</th>\n",
              "      <td>NAIROBI WEST</td>\n",
              "      <td>Urban</td>\n",
              "      <td>2</td>\n",
              "      <td>8462</td>\n",
              "      <td>8627</td>\n",
              "      <td>17089</td>\n",
              "      <td>Nairobi</td>\n",
              "      <td>NAIROBI</td>\n",
              "      <td>2</td>\n",
              "    </tr>\n",
              "    <tr>\n",
              "      <th>3</th>\n",
              "      <td>NAIROBI WEST</td>\n",
              "      <td>Urban</td>\n",
              "      <td>3</td>\n",
              "      <td>8334</td>\n",
              "      <td>8420</td>\n",
              "      <td>16754</td>\n",
              "      <td>Nairobi</td>\n",
              "      <td>NAIROBI</td>\n",
              "      <td>3</td>\n",
              "    </tr>\n",
              "    <tr>\n",
              "      <th>4</th>\n",
              "      <td>NAIROBI WEST</td>\n",
              "      <td>Urban</td>\n",
              "      <td>4</td>\n",
              "      <td>7948</td>\n",
              "      <td>7820</td>\n",
              "      <td>15768</td>\n",
              "      <td>Nairobi</td>\n",
              "      <td>NAIROBI</td>\n",
              "      <td>4</td>\n",
              "    </tr>\n",
              "    <tr>\n",
              "      <th>...</th>\n",
              "      <td>...</td>\n",
              "      <td>...</td>\n",
              "      <td>...</td>\n",
              "      <td>...</td>\n",
              "      <td>...</td>\n",
              "      <td>...</td>\n",
              "      <td>...</td>\n",
              "      <td>...</td>\n",
              "      <td>...</td>\n",
              "    </tr>\n",
              "    <tr>\n",
              "      <th>25415</th>\n",
              "      <td>TESO SOUTH</td>\n",
              "      <td>Rural</td>\n",
              "      <td>77</td>\n",
              "      <td>99</td>\n",
              "      <td>86</td>\n",
              "      <td>185</td>\n",
              "      <td>Busia</td>\n",
              "      <td>WESTERN</td>\n",
              "      <td>25415</td>\n",
              "    </tr>\n",
              "    <tr>\n",
              "      <th>25416</th>\n",
              "      <td>TESO SOUTH</td>\n",
              "      <td>Rural</td>\n",
              "      <td>78</td>\n",
              "      <td>63</td>\n",
              "      <td>47</td>\n",
              "      <td>110</td>\n",
              "      <td>Busia</td>\n",
              "      <td>WESTERN</td>\n",
              "      <td>25416</td>\n",
              "    </tr>\n",
              "    <tr>\n",
              "      <th>25417</th>\n",
              "      <td>TESO SOUTH</td>\n",
              "      <td>Rural</td>\n",
              "      <td>79</td>\n",
              "      <td>90</td>\n",
              "      <td>121</td>\n",
              "      <td>211</td>\n",
              "      <td>Busia</td>\n",
              "      <td>WESTERN</td>\n",
              "      <td>25417</td>\n",
              "    </tr>\n",
              "    <tr>\n",
              "      <th>25418</th>\n",
              "      <td>TESO SOUTH</td>\n",
              "      <td>Rural</td>\n",
              "      <td>80+</td>\n",
              "      <td>384</td>\n",
              "      <td>391</td>\n",
              "      <td>775</td>\n",
              "      <td>Busia</td>\n",
              "      <td>WESTERN</td>\n",
              "      <td>25418</td>\n",
              "    </tr>\n",
              "    <tr>\n",
              "      <th>25419</th>\n",
              "      <td>TESO SOUTH</td>\n",
              "      <td>Rural</td>\n",
              "      <td>Age NS</td>\n",
              "      <td>25</td>\n",
              "      <td>23</td>\n",
              "      <td>48</td>\n",
              "      <td>Busia</td>\n",
              "      <td>WESTERN</td>\n",
              "      <td>25419</td>\n",
              "    </tr>\n",
              "  </tbody>\n",
              "</table>\n",
              "<p>25420 rows × 9 columns</p>\n",
              "</div>"
            ],
            "text/plain": [
              "           District Urban/Rural Age_years  ...   County  Province  OBJECTID\n",
              "0      NAIROBI WEST       Urban         0  ...  Nairobi   NAIROBI         0\n",
              "1      NAIROBI WEST       Urban         1  ...  Nairobi   NAIROBI         1\n",
              "2      NAIROBI WEST       Urban         2  ...  Nairobi   NAIROBI         2\n",
              "3      NAIROBI WEST       Urban         3  ...  Nairobi   NAIROBI         3\n",
              "4      NAIROBI WEST       Urban         4  ...  Nairobi   NAIROBI         4\n",
              "...             ...         ...       ...  ...      ...       ...       ...\n",
              "25415    TESO SOUTH       Rural        77  ...    Busia   WESTERN     25415\n",
              "25416    TESO SOUTH       Rural        78  ...    Busia   WESTERN     25416\n",
              "25417    TESO SOUTH       Rural        79  ...    Busia   WESTERN     25417\n",
              "25418    TESO SOUTH       Rural       80+  ...    Busia   WESTERN     25418\n",
              "25419    TESO SOUTH       Rural    Age NS  ...    Busia   WESTERN     25419\n",
              "\n",
              "[25420 rows x 9 columns]"
            ]
          },
          "metadata": {
            "tags": []
          },
          "execution_count": 6
        }
      ]
    },
    {
      "cell_type": "markdown",
      "metadata": {
        "id": "IICLGbvBRYHq",
        "colab_type": "text"
      },
      "source": [
        "## 1.2 Previewing our Dataset\n"
      ]
    },
    {
      "cell_type": "code",
      "metadata": {
        "id": "4i4FcZ4iOLtx",
        "colab_type": "code",
        "colab": {
          "base_uri": "https://localhost:8080/",
          "height": 238
        },
        "outputId": "6b6f0039-e7fd-4df3-902d-d610dc125d67"
      },
      "source": [
        "# Let's preview the first 10 rows of our data\n",
        "# \n",
        "df[:10]\n",
        "print(df[:10])"
      ],
      "execution_count": 13,
      "outputs": [
        {
          "output_type": "stream",
          "text": [
            "       District Urban/Rural Age_years   Male  ...  Total   County Province OBJECTID\n",
            "0  NAIROBI WEST       Urban         0  10126  ...  20242  Nairobi  NAIROBI        0\n",
            "1  NAIROBI WEST       Urban         1   8124  ...  16113  Nairobi  NAIROBI        1\n",
            "2  NAIROBI WEST       Urban         2   8462  ...  17089  Nairobi  NAIROBI        2\n",
            "3  NAIROBI WEST       Urban         3   8334  ...  16754  Nairobi  NAIROBI        3\n",
            "4  NAIROBI WEST       Urban         4   7948  ...  15768  Nairobi  NAIROBI        4\n",
            "5  NAIROBI WEST       Urban         5   7547  ...  15207  Nairobi  NAIROBI        5\n",
            "6  NAIROBI WEST       Urban         6   6966  ...  14048  Nairobi  NAIROBI        6\n",
            "7  NAIROBI WEST       Urban         7   6511  ...  13185  Nairobi  NAIROBI        7\n",
            "8  NAIROBI WEST       Urban         8   6171  ...  12660  Nairobi  NAIROBI        8\n",
            "9  NAIROBI WEST       Urban         9   6361  ...  13023  Nairobi  NAIROBI        9\n",
            "\n",
            "[10 rows x 9 columns]\n"
          ],
          "name": "stdout"
        }
      ]
    },
    {
      "cell_type": "markdown",
      "metadata": {
        "id": "RAVzK5O6IR8v",
        "colab_type": "text"
      },
      "source": [
        "## 1.3 Accessing Information about our Dataset"
      ]
    },
    {
      "cell_type": "code",
      "metadata": {
        "id": "0d2kfemDIYWI",
        "colab_type": "code",
        "colab": {
          "base_uri": "https://localhost:8080/",
          "height": 187
        },
        "outputId": "440a420b-c146-42d6-98dc-421568f02e48"
      },
      "source": [
        "# We can getting to know more about the dataset by accessing its information \n",
        "#\n",
        "df.iloc[1]"
      ],
      "execution_count": 15,
      "outputs": [
        {
          "output_type": "execute_result",
          "data": {
            "text/plain": [
              "District       NAIROBI WEST\n",
              "Urban/Rural           Urban\n",
              "Age_years                 1\n",
              "Male                   8124\n",
              "Female                 7989\n",
              "Total                 16113\n",
              "County              Nairobi\n",
              "Province            NAIROBI\n",
              "OBJECTID                  1\n",
              "Name: 1, dtype: object"
            ]
          },
          "metadata": {
            "tags": []
          },
          "execution_count": 15
        }
      ]
    },
    {
      "cell_type": "markdown",
      "metadata": {
        "id": "NicC8P9LMjvO",
        "colab_type": "text"
      },
      "source": [
        "## 1.4 Answering Questions"
      ]
    },
    {
      "cell_type": "markdown",
      "metadata": {
        "id": "8izhaW7UNYGJ",
        "colab_type": "text"
      },
      "source": [
        "Let's answer the following questions with our dataset"
      ]
    },
    {
      "cell_type": "code",
      "metadata": {
        "id": "tTOgnXvuMxcn",
        "colab_type": "code",
        "colab": {}
      },
      "source": [
        "# Challenge 1\n",
        "# What was the average age of a person of Kenya?\n",
        "#\n",
        "OUR CODE GOES HERE"
      ],
      "execution_count": null,
      "outputs": []
    },
    {
      "cell_type": "code",
      "metadata": {
        "id": "BNegesaWNvQs",
        "colab_type": "code",
        "colab": {}
      },
      "source": [
        "# Challenge 2\n",
        "# What was the average female population in Kenya?\n",
        "#\n",
        "OUR CODE GOES HERE"
      ],
      "execution_count": null,
      "outputs": []
    },
    {
      "cell_type": "code",
      "metadata": {
        "id": "7tilTerhNyiP",
        "colab_type": "code",
        "colab": {}
      },
      "source": [
        "# Challenge 3\n",
        "# What was the average male population in Kenya?\n",
        "#\n",
        "OUR CODE GOES HERE"
      ],
      "execution_count": null,
      "outputs": []
    },
    {
      "cell_type": "code",
      "metadata": {
        "id": "OemJ0HDYOHCq",
        "colab_type": "code",
        "colab": {}
      },
      "source": [
        "# Challenge 4\n",
        "# Which 5 districts were the most densely populated Kenya in descending order?\n",
        "#\n",
        "OUR CODE GOES HERE"
      ],
      "execution_count": null,
      "outputs": []
    },
    {
      "cell_type": "code",
      "metadata": {
        "id": "CIxC5arSOLak",
        "colab_type": "code",
        "colab": {}
      },
      "source": [
        "# Challenge 5\n",
        "# Which 5 counties were the most densely populated Counties in descending order?\n",
        "# \n",
        "OUR CODE GOES HERE"
      ],
      "execution_count": null,
      "outputs": []
    },
    {
      "cell_type": "code",
      "metadata": {
        "id": "gSjjnw56OP8O",
        "colab_type": "code",
        "colab": {}
      },
      "source": [
        "# Challenge 6\n",
        "# Which 5 districts were the most sparsely populated in descending order?\n",
        "# \n",
        "OUR CODE GOES HERE"
      ],
      "execution_count": null,
      "outputs": []
    },
    {
      "cell_type": "code",
      "metadata": {
        "id": "UZLYqF7UOTtu",
        "colab_type": "code",
        "colab": {}
      },
      "source": [
        "# Challenge 7\n",
        "# What was the average population of the the most densely populated county in Kenya?\n",
        "# \n",
        "OUR CODE GOES HERE"
      ],
      "execution_count": null,
      "outputs": []
    },
    {
      "cell_type": "code",
      "metadata": {
        "id": "1qk8wF3MOXDu",
        "colab_type": "code",
        "colab": {}
      },
      "source": [
        "# Challenge 8\n",
        "# What was the average population of the the most sparsely populated county in Kenya?\n",
        "# \n",
        "OUR CODE GOES HERE"
      ],
      "execution_count": null,
      "outputs": []
    },
    {
      "cell_type": "code",
      "metadata": {
        "id": "1V21Beok3Rdc",
        "colab_type": "code",
        "colab": {}
      },
      "source": [
        "# Challenge 9\n",
        "# What was the total population of Busia County? \n",
        "# \n",
        "OUR CODE GOES HERE"
      ],
      "execution_count": null,
      "outputs": []
    },
    {
      "cell_type": "code",
      "metadata": {
        "id": "Vtq7pAI73RTZ",
        "colab_type": "code",
        "colab": {}
      },
      "source": [
        "# Challenge 10\n",
        "# What was the average age of person in Busia County? How many people of this age were in Busia County?\n",
        "# \n",
        "OUR CODE GOES HERE"
      ],
      "execution_count": null,
      "outputs": []
    },
    {
      "cell_type": "code",
      "metadata": {
        "id": "8xkStdjdXS3w",
        "colab_type": "code",
        "colab": {}
      },
      "source": [
        "# Challenge 11\n",
        "# What was the Total population of Teso South District?\n",
        "# \n",
        "OUR CODE GOES HERE"
      ],
      "execution_count": null,
      "outputs": []
    },
    {
      "cell_type": "code",
      "metadata": {
        "id": "rgVsXH_5XVCh",
        "colab_type": "code",
        "colab": {}
      },
      "source": [
        "# Challenge 12\n",
        "# What was the urban population of Teso South District?\n",
        "# \n",
        "OUR CODE GOES HERE"
      ],
      "execution_count": null,
      "outputs": []
    },
    {
      "cell_type": "code",
      "metadata": {
        "id": "XvvFWhuDXXeP",
        "colab_type": "code",
        "colab": {}
      },
      "source": [
        "# Challenge 13\n",
        "# What was the rural population of Teso South District?\n",
        "# \n",
        "OUR CODE GOES HERE"
      ],
      "execution_count": null,
      "outputs": []
    },
    {
      "cell_type": "code",
      "metadata": {
        "id": "q1iq02FuXc2R",
        "colab_type": "code",
        "colab": {}
      },
      "source": [
        "# Challenge 14\n",
        "# What was the population of people aged 60 and above in Kenya?\n",
        "#\n",
        "OUR CODE GOES HERE"
      ],
      "execution_count": null,
      "outputs": []
    },
    {
      "cell_type": "code",
      "metadata": {
        "id": "drAWpxBZXhcF",
        "colab_type": "code",
        "colab": {}
      },
      "source": [
        "# Challenge 15 \n",
        "# What was the urban population in Kenya?\n",
        "#\n",
        "OUR CODE GOES HERE"
      ],
      "execution_count": null,
      "outputs": []
    }
  ]
}